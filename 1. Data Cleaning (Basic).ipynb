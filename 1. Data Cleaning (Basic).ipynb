{
 "cells": [
  {
   "cell_type": "code",
   "execution_count": 1,
   "metadata": {},
   "outputs": [],
   "source": [
    "import pandas as pd\n",
    "import numpy as np"
   ]
  },
  {
   "cell_type": "code",
   "execution_count": 2,
   "metadata": {},
   "outputs": [
    {
     "name": "stdout",
     "output_type": "stream",
     "text": [
      "1. Data Cleaning (Basic).ipynb\r\n",
      "2. Data Analysis and Cleaning (Advance).ipynb\r\n",
      "3. Data Prep.ipynb\r\n",
      "4. Model_Training.ipynb\r\n",
      "5. Prediction Pipeline.ipynb\r\n",
      "\u001b[34mApplications\u001b[m\u001b[m\r\n",
      "CNN_Face_recognition.ipynb\r\n",
      "Data_Prepared.csv\r\n",
      "\u001b[34mDesktop\u001b[m\u001b[m\r\n",
      "\u001b[34mDocuments\u001b[m\u001b[m\r\n",
      "\u001b[34mDownloads\u001b[m\u001b[m\r\n",
      "\u001b[34mLibrary\u001b[m\u001b[m\r\n",
      "\u001b[34mModel\u001b[m\u001b[m\r\n",
      "\u001b[34mMovies\u001b[m\u001b[m\r\n",
      "\u001b[34mMusic\u001b[m\u001b[m\r\n",
      "ND_DS_LSTM.ipynb\r\n",
      "ORL_faces.npz\r\n",
      "\u001b[34mPictures\u001b[m\u001b[m\r\n",
      "\u001b[34mPublic\u001b[m\u001b[m\r\n",
      "\u001b[34manaconda3\u001b[m\u001b[m\r\n",
      "clean_data.csv\r\n",
      "cleaned_test_booking_data.csv\r\n",
      "data_analysis_ride_request.html\r\n",
      "frs_4_Predictions copy.ipynb\r\n",
      "model_VAR.pkl\r\n",
      "preprocessed_1.csv\r\n",
      "preprocessed_2.csv\r\n",
      "preprocessed_3.csv\r\n",
      "raw_data.csv\r\n",
      "\u001b[34mtemplates\u001b[m\u001b[m\r\n",
      "water-consumption-in-the-new-york-city.csv\r\n"
     ]
    }
   ],
   "source": [
    "!ls"
   ]
  },
  {
   "cell_type": "markdown",
   "metadata": {},
   "source": [
    "#### Reading DataSet"
   ]
  },
  {
   "cell_type": "code",
   "execution_count": 3,
   "metadata": {},
   "outputs": [
    {
     "data": {
      "text/plain": [
       "8381556"
      ]
     },
     "execution_count": 3,
     "metadata": {},
     "output_type": "execute_result"
    }
   ],
   "source": [
    "df = pd.read_csv('raw_data.csv', low_memory = False, compression='gzip')\n",
    "len(df)"
   ]
  },
  {
   "cell_type": "code",
   "execution_count": 4,
   "metadata": {},
   "outputs": [
    {
     "data": {
      "text/html": [
       "<div>\n",
       "<style scoped>\n",
       "    .dataframe tbody tr th:only-of-type {\n",
       "        vertical-align: middle;\n",
       "    }\n",
       "\n",
       "    .dataframe tbody tr th {\n",
       "        vertical-align: top;\n",
       "    }\n",
       "\n",
       "    .dataframe thead th {\n",
       "        text-align: right;\n",
       "    }\n",
       "</style>\n",
       "<table border=\"1\" class=\"dataframe\">\n",
       "  <thead>\n",
       "    <tr style=\"text-align: right;\">\n",
       "      <th></th>\n",
       "      <th>ts</th>\n",
       "      <th>number</th>\n",
       "      <th>pick_lat</th>\n",
       "      <th>pick_lng</th>\n",
       "      <th>drop_lat</th>\n",
       "      <th>drop_lng</th>\n",
       "    </tr>\n",
       "  </thead>\n",
       "  <tbody>\n",
       "    <tr>\n",
       "      <th>0</th>\n",
       "      <td>2020-03-26 07:07:17</td>\n",
       "      <td>14626</td>\n",
       "      <td>12.313621</td>\n",
       "      <td>76.658195</td>\n",
       "      <td>12.287301</td>\n",
       "      <td>76.602280</td>\n",
       "    </tr>\n",
       "    <tr>\n",
       "      <th>1</th>\n",
       "      <td>2020-03-26 07:32:27</td>\n",
       "      <td>85490</td>\n",
       "      <td>12.943947</td>\n",
       "      <td>77.560745</td>\n",
       "      <td>12.954014</td>\n",
       "      <td>77.543770</td>\n",
       "    </tr>\n",
       "    <tr>\n",
       "      <th>2</th>\n",
       "      <td>2020-03-26 07:36:44</td>\n",
       "      <td>05408</td>\n",
       "      <td>12.899603</td>\n",
       "      <td>77.587300</td>\n",
       "      <td>12.934780</td>\n",
       "      <td>77.569950</td>\n",
       "    </tr>\n",
       "    <tr>\n",
       "      <th>3</th>\n",
       "      <td>2020-03-26 07:38:00</td>\n",
       "      <td>58940</td>\n",
       "      <td>12.918229</td>\n",
       "      <td>77.607544</td>\n",
       "      <td>12.968971</td>\n",
       "      <td>77.636375</td>\n",
       "    </tr>\n",
       "    <tr>\n",
       "      <th>4</th>\n",
       "      <td>2020-03-26 07:39:29</td>\n",
       "      <td>05408</td>\n",
       "      <td>12.899490</td>\n",
       "      <td>77.587270</td>\n",
       "      <td>12.934780</td>\n",
       "      <td>77.569950</td>\n",
       "    </tr>\n",
       "  </tbody>\n",
       "</table>\n",
       "</div>"
      ],
      "text/plain": [
       "                    ts number   pick_lat   pick_lng   drop_lat   drop_lng\n",
       "0  2020-03-26 07:07:17  14626  12.313621  76.658195  12.287301  76.602280\n",
       "1  2020-03-26 07:32:27  85490  12.943947  77.560745  12.954014  77.543770\n",
       "2  2020-03-26 07:36:44  05408  12.899603  77.587300  12.934780  77.569950\n",
       "3  2020-03-26 07:38:00  58940  12.918229  77.607544  12.968971  77.636375\n",
       "4  2020-03-26 07:39:29  05408  12.899490  77.587270  12.934780  77.569950"
      ]
     },
     "execution_count": 4,
     "metadata": {},
     "output_type": "execute_result"
    }
   ],
   "source": [
    "df.head()"
   ]
  },
  {
   "cell_type": "markdown",
   "metadata": {},
   "source": [
    "### A Customer_ID `number` at a particular timestamp can only have one entry\n",
    "### Removing Duplicate Entries ['ts','number']"
   ]
  },
  {
   "cell_type": "code",
   "execution_count": 5,
   "metadata": {},
   "outputs": [
    {
     "data": {
      "text/html": [
       "<div>\n",
       "<style scoped>\n",
       "    .dataframe tbody tr th:only-of-type {\n",
       "        vertical-align: middle;\n",
       "    }\n",
       "\n",
       "    .dataframe tbody tr th {\n",
       "        vertical-align: top;\n",
       "    }\n",
       "\n",
       "    .dataframe thead th {\n",
       "        text-align: right;\n",
       "    }\n",
       "</style>\n",
       "<table border=\"1\" class=\"dataframe\">\n",
       "  <thead>\n",
       "    <tr style=\"text-align: right;\">\n",
       "      <th></th>\n",
       "      <th>ts</th>\n",
       "      <th>number</th>\n",
       "      <th>pick_lat</th>\n",
       "      <th>pick_lng</th>\n",
       "      <th>drop_lat</th>\n",
       "      <th>drop_lng</th>\n",
       "    </tr>\n",
       "  </thead>\n",
       "  <tbody>\n",
       "    <tr>\n",
       "      <th>235</th>\n",
       "      <td>2020-03-26 18:10:35</td>\n",
       "      <td>16795</td>\n",
       "      <td>12.967236</td>\n",
       "      <td>77.641594</td>\n",
       "      <td>13.014504</td>\n",
       "      <td>77.650856</td>\n",
       "    </tr>\n",
       "    <tr>\n",
       "      <th>236</th>\n",
       "      <td>2020-03-26 18:10:35</td>\n",
       "      <td>16795</td>\n",
       "      <td>12.967236</td>\n",
       "      <td>77.641594</td>\n",
       "      <td>13.014504</td>\n",
       "      <td>77.650856</td>\n",
       "    </tr>\n",
       "    <tr>\n",
       "      <th>407</th>\n",
       "      <td>2020-03-26 21:35:50</td>\n",
       "      <td>65856</td>\n",
       "      <td>12.917173</td>\n",
       "      <td>77.586400</td>\n",
       "      <td>12.913940</td>\n",
       "      <td>77.685280</td>\n",
       "    </tr>\n",
       "    <tr>\n",
       "      <th>408</th>\n",
       "      <td>2020-03-26 21:35:50</td>\n",
       "      <td>65856</td>\n",
       "      <td>12.917173</td>\n",
       "      <td>77.586400</td>\n",
       "      <td>12.913940</td>\n",
       "      <td>77.685280</td>\n",
       "    </tr>\n",
       "    <tr>\n",
       "      <th>443</th>\n",
       "      <td>2020-03-26 23:26:29</td>\n",
       "      <td>27554</td>\n",
       "      <td>12.933715</td>\n",
       "      <td>77.619300</td>\n",
       "      <td>12.938208</td>\n",
       "      <td>77.587520</td>\n",
       "    </tr>\n",
       "    <tr>\n",
       "      <th>...</th>\n",
       "      <td>...</td>\n",
       "      <td>...</td>\n",
       "      <td>...</td>\n",
       "      <td>...</td>\n",
       "      <td>...</td>\n",
       "      <td>...</td>\n",
       "    </tr>\n",
       "    <tr>\n",
       "      <th>8381231</th>\n",
       "      <td>2021-03-26 22:23:12</td>\n",
       "      <td>61636</td>\n",
       "      <td>12.975229</td>\n",
       "      <td>77.620370</td>\n",
       "      <td>13.017285</td>\n",
       "      <td>77.618200</td>\n",
       "    </tr>\n",
       "    <tr>\n",
       "      <th>8381245</th>\n",
       "      <td>2021-03-26 22:25:13</td>\n",
       "      <td>61636</td>\n",
       "      <td>12.975229</td>\n",
       "      <td>77.620370</td>\n",
       "      <td>13.017285</td>\n",
       "      <td>77.618200</td>\n",
       "    </tr>\n",
       "    <tr>\n",
       "      <th>8381246</th>\n",
       "      <td>2021-03-26 22:25:13</td>\n",
       "      <td>61636</td>\n",
       "      <td>12.975229</td>\n",
       "      <td>77.620370</td>\n",
       "      <td>13.017285</td>\n",
       "      <td>77.618200</td>\n",
       "    </tr>\n",
       "    <tr>\n",
       "      <th>8381248</th>\n",
       "      <td>2021-03-26 22:25:27</td>\n",
       "      <td>61636</td>\n",
       "      <td>12.975229</td>\n",
       "      <td>77.620370</td>\n",
       "      <td>13.017285</td>\n",
       "      <td>77.618200</td>\n",
       "    </tr>\n",
       "    <tr>\n",
       "      <th>8381249</th>\n",
       "      <td>2021-03-26 22:25:27</td>\n",
       "      <td>61636</td>\n",
       "      <td>12.975229</td>\n",
       "      <td>77.620370</td>\n",
       "      <td>13.017285</td>\n",
       "      <td>77.618200</td>\n",
       "    </tr>\n",
       "  </tbody>\n",
       "</table>\n",
       "<p>113540 rows × 6 columns</p>\n",
       "</div>"
      ],
      "text/plain": [
       "                          ts number   pick_lat   pick_lng   drop_lat  \\\n",
       "235      2020-03-26 18:10:35  16795  12.967236  77.641594  13.014504   \n",
       "236      2020-03-26 18:10:35  16795  12.967236  77.641594  13.014504   \n",
       "407      2020-03-26 21:35:50  65856  12.917173  77.586400  12.913940   \n",
       "408      2020-03-26 21:35:50  65856  12.917173  77.586400  12.913940   \n",
       "443      2020-03-26 23:26:29  27554  12.933715  77.619300  12.938208   \n",
       "...                      ...    ...        ...        ...        ...   \n",
       "8381231  2021-03-26 22:23:12  61636  12.975229  77.620370  13.017285   \n",
       "8381245  2021-03-26 22:25:13  61636  12.975229  77.620370  13.017285   \n",
       "8381246  2021-03-26 22:25:13  61636  12.975229  77.620370  13.017285   \n",
       "8381248  2021-03-26 22:25:27  61636  12.975229  77.620370  13.017285   \n",
       "8381249  2021-03-26 22:25:27  61636  12.975229  77.620370  13.017285   \n",
       "\n",
       "          drop_lng  \n",
       "235      77.650856  \n",
       "236      77.650856  \n",
       "407      77.685280  \n",
       "408      77.685280  \n",
       "443      77.587520  \n",
       "...            ...  \n",
       "8381231  77.618200  \n",
       "8381245  77.618200  \n",
       "8381246  77.618200  \n",
       "8381248  77.618200  \n",
       "8381249  77.618200  \n",
       "\n",
       "[113540 rows x 6 columns]"
      ]
     },
     "execution_count": 5,
     "metadata": {},
     "output_type": "execute_result"
    }
   ],
   "source": [
    "df[df.duplicated(subset=['ts','number'],keep=False)]"
   ]
  },
  {
   "cell_type": "markdown",
   "metadata": {},
   "source": [
    "### There are 113540 Duplicate Entries\n",
    "#### We have 8315498 Unique timestamp, customer_id rows. "
   ]
  },
  {
   "cell_type": "code",
   "execution_count": 6,
   "metadata": {},
   "outputs": [],
   "source": [
    "## Keeping first occurence\n",
    "df.drop_duplicates(subset=['ts','number'], inplace = True, keep = 'last')\n",
    "\n",
    "df.reset_index(inplace = True, drop = True)"
   ]
  },
  {
   "cell_type": "code",
   "execution_count": 7,
   "metadata": {},
   "outputs": [
    {
     "name": "stdout",
     "output_type": "stream",
     "text": [
      "<class 'pandas.core.frame.DataFrame'>\n",
      "RangeIndex: 8315498 entries, 0 to 8315497\n",
      "Data columns (total 6 columns):\n",
      " #   Column    Dtype  \n",
      "---  ------    -----  \n",
      " 0   ts        object \n",
      " 1   number    object \n",
      " 2   pick_lat  float64\n",
      " 3   pick_lng  float64\n",
      " 4   drop_lat  float64\n",
      " 5   drop_lng  float64\n",
      "dtypes: float64(4), object(2)\n",
      "memory usage: 380.7+ MB\n"
     ]
    }
   ],
   "source": [
    "# Info of Dataset\n",
    "df.info()"
   ]
  },
  {
   "cell_type": "code",
   "execution_count": 8,
   "metadata": {},
   "outputs": [
    {
     "data": {
      "text/plain": [
       "0"
      ]
     },
     "execution_count": 8,
     "metadata": {},
     "output_type": "execute_result"
    }
   ],
   "source": [
    "#Count missing values\n",
    "np.count_nonzero(df.isnull().values)"
   ]
  },
  {
   "cell_type": "code",
   "execution_count": 9,
   "metadata": {},
   "outputs": [
    {
     "data": {
      "text/plain": [
       "116"
      ]
     },
     "execution_count": 9,
     "metadata": {},
     "output_type": "execute_result"
    }
   ],
   "source": [
    "df['number'] = pd.to_numeric(df['number'], errors = 'coerce')\n",
    "\n",
    "#Count missing values\n",
    "np.count_nonzero(df.isnull().values)"
   ]
  },
  {
   "cell_type": "markdown",
   "metadata": {},
   "source": [
    "#### There are 116 NaN rows, dropping NaN rows."
   ]
  },
  {
   "cell_type": "code",
   "execution_count": 10,
   "metadata": {},
   "outputs": [
    {
     "data": {
      "text/plain": [
       "8315382"
      ]
     },
     "execution_count": 10,
     "metadata": {},
     "output_type": "execute_result"
    }
   ],
   "source": [
    "df.dropna(inplace = True)\n",
    "len(df)"
   ]
  },
  {
   "cell_type": "code",
   "execution_count": 11,
   "metadata": {},
   "outputs": [],
   "source": [
    "df['number'] = pd.to_numeric(df['number'], errors = 'coerce', downcast='integer')\n",
    "df['ts'] = pd.to_datetime(df['ts'])"
   ]
  },
  {
   "cell_type": "code",
   "execution_count": 12,
   "metadata": {},
   "outputs": [
    {
     "name": "stdout",
     "output_type": "stream",
     "text": [
      "<class 'pandas.core.frame.DataFrame'>\n",
      "Index: 8315382 entries, 0 to 8315497\n",
      "Data columns (total 6 columns):\n",
      " #   Column    Dtype         \n",
      "---  ------    -----         \n",
      " 0   ts        datetime64[ns]\n",
      " 1   number    int32         \n",
      " 2   pick_lat  float64       \n",
      " 3   pick_lng  float64       \n",
      " 4   drop_lat  float64       \n",
      " 5   drop_lng  float64       \n",
      "dtypes: datetime64[ns](1), float64(4), int32(1)\n",
      "memory usage: 412.4 MB\n"
     ]
    }
   ],
   "source": [
    "# Info of Dataset\n",
    "df.info()"
   ]
  },
  {
   "cell_type": "markdown",
   "metadata": {},
   "source": [
    "### Breaking Time to Features"
   ]
  },
  {
   "cell_type": "code",
   "execution_count": 13,
   "metadata": {},
   "outputs": [],
   "source": [
    "df['hour'] = df['ts'].dt.hour\n",
    "df['mins'] = df['ts'].dt.minute\n",
    "df['day'] = df['ts'].dt.day\n",
    "df['month'] = df['ts'].dt.month\n",
    "df['year'] = df['ts'].dt.year\n",
    "df['dayofweek'] = df['ts'].dt.dayofweek"
   ]
  },
  {
   "cell_type": "code",
   "execution_count": 14,
   "metadata": {},
   "outputs": [],
   "source": [
    "df.to_csv('preprocessed_1.csv',index = False, compression = 'gzip')"
   ]
  },
  {
   "cell_type": "code",
   "execution_count": 18,
   "metadata": {},
   "outputs": [
    {
     "name": "stdout",
     "output_type": "stream",
     "text": [
      "(8315382, 12)\n"
     ]
    }
   ],
   "source": [
    "print(df.shape)"
   ]
  },
  {
   "cell_type": "code",
   "execution_count": null,
   "metadata": {},
   "outputs": [],
   "source": []
  }
 ],
 "metadata": {
  "kernelspec": {
   "display_name": "Python 3 (ipykernel)",
   "language": "python",
   "name": "python3"
  },
  "language_info": {
   "codemirror_mode": {
    "name": "ipython",
    "version": 3
   },
   "file_extension": ".py",
   "mimetype": "text/x-python",
   "name": "python",
   "nbconvert_exporter": "python",
   "pygments_lexer": "ipython3",
   "version": "3.11.5"
  }
 },
 "nbformat": 4,
 "nbformat_minor": 4
}
